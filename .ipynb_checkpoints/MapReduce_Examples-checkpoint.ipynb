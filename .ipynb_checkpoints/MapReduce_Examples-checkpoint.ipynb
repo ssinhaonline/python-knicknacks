{
 "cells": [
  {
   "cell_type": "code",
   "execution_count": null,
   "metadata": {
    "collapsed": true
   },
   "outputs": [],
   "source": [
    "#==========================================================================\n",
    "# Hello. In this notebook, I will be providing Map Reduce \n",
    "# examples in Python, which will work as Hadoop Streaming jobs.\n",
    "# @author: Souradeep Sinha\n",
    "#=========================================================================="
   ]
  },
  {
   "cell_type": "code",
   "execution_count": null,
   "metadata": {
    "collapsed": false
   },
   "outputs": [],
   "source": [
    "#==========================================================================\n",
    "# This example is from Tanmay Deshpande's list of sample Map \n",
    "# Reduce problems which are originally written in Java\n",
    "# at http://hadooptutorials.co.in/tutorials/mapreduce/advanced-map-reduce-examples-1.html#\n",
    "# \n",
    "# Problem Statement:\n",
    "# XYZ.com is an online music website where users listen to \n",
    "# various tracks, the data gets collected like shown below. \n",
    "# Write a map reduce program to get following stats:\n",
    "# \n",
    "# Number of unique listeners\n",
    "# Number of times the track was shared with others\n",
    "# Number of times the track was listened to on the radio\n",
    "# Number of times the track was listened to in total\n",
    "# Number of times the track was skipped on the radio\n",
    "# The data is coming in log files and looks like as shown below.\n",
    "# \n",
    "# UserId|TrackId|Shared|Radio|Skip\n",
    "# 111115|222|0|1|0\n",
    "# 111113|225|1|0|0\n",
    "# 111117|223|0|1|1\n",
    "# 111115|225|1|0|0\n",
    "#=========================================================================="
   ]
  },
  {
   "cell_type": "code",
   "execution_count": null,
   "metadata": {
    "collapsed": true
   },
   "outputs": [],
   "source": [
    "# Problem 1: Number of unique listeners"
   ]
  },
  {
   "cell_type": "code",
   "execution_count": null,
   "metadata": {
    "collapsed": true
   },
   "outputs": [],
   "source": [
    "# Mapper Function. File saved as mapper1.py\n",
    "\n",
    "from sys import stdin\n",
    "\n",
    "for line in stdin:\n",
    "    data = line.split(\"|\")\n",
    "    if len(data) == 5:\n",
    "        uid, tid = data[:2]\n",
    "        print \"{0}\\t{1}\".format(tid, uid)\n",
    "    else:\n",
    "        continue"
   ]
  },
  {
   "cell_type": "code",
   "execution_count": null,
   "metadata": {
    "collapsed": false
   },
   "outputs": [],
   "source": [
    "# Reduce Function. File saved as reducer1.py\n",
    "\n",
    "from sys import stdin\n",
    "\n",
    "oldKey = None\n",
    "aggregator = list()\n",
    "for line in stdin:\n",
    "    data = line.split(\"\\t\")\n",
    "    if not(len(data) == 2):\n",
    "        continue\n",
    "    thisKey, thisValue = data\n",
    "    if oldKey and not(oldKey == thisKey):\n",
    "        print \"{0}\\t{1}\".format(oldKey, str(len(list(set(aggregator)))))\n",
    "        aggregator = list()\n",
    "        oldKey = thisKey\n",
    "    oldKey = thisKey\n",
    "    aggregator.append(thisValue)\n",
    "print \"{0}\\t{1}\".format(oldKey, str(len(list(set(aggregator)))))"
   ]
  },
  {
   "cell_type": "code",
   "execution_count": null,
   "metadata": {
    "collapsed": true
   },
   "outputs": [],
   "source": [
    "# The mapper ad the reducer can be passed to the Hadoop \n",
    "# framework along with the data file, output folder (in  \n",
    "# HDFS) and the mapper-reducer file combinations. Please\n",
    "# ensure that the output folder does not already exist.\n",
    "\n",
    "# For a sanity check, the mapper and reducer can be checked\n",
    "# on the local machine terminal, using the first 1000 lines\n",
    "# of the log file (log.dat) and piping the results into \n",
    "# mapper and reducer functions as follows:"
   ]
  },
  {
   "cell_type": "code",
   "execution_count": null,
   "metadata": {
    "collapsed": true
   },
   "outputs": [],
   "source": [
    "# $> cat -1000 log.dat | python mapper1.py \\\n",
    "# $> | sort | python reducer1.py"
   ]
  },
  {
   "cell_type": "code",
   "execution_count": null,
   "metadata": {
    "collapsed": true
   },
   "outputs": [],
   "source": [
    "# Problem 2: Number of times the track was shared with others"
   ]
  },
  {
   "cell_type": "code",
   "execution_count": null,
   "metadata": {
    "collapsed": true
   },
   "outputs": [],
   "source": [
    "# Mapper Function. File saved as mapper2.py\n",
    "# Almost the same as mapper1.py, except the emission data\n",
    "\n",
    "from sys import stdin\n",
    "\n",
    "for line in sys.stdin:\n",
    "    data = line.split(\"|\")\n",
    "    if not (len(data) == 5):\n",
    "        continue\n",
    "    print \"{}\\t{}\".format(data[1], data[2])"
   ]
  },
  {
   "cell_type": "code",
   "execution_count": null,
   "metadata": {
    "collapsed": true
   },
   "outputs": [],
   "source": [
    "# Reducer Function. File saved as reducer2.py\n",
    "# Similar structure, note the change in aggregation\n",
    "\n",
    "from sys import stdin\n",
    "\n",
    "oldKey = None\n",
    "aggregator = 0\n",
    "\n",
    "for line in stdin:\n",
    "    if not (len(data) == 2):\n",
    "        continue\n",
    "    thisKey, thisValue = data\n",
    "    if oldKey and not (oldKey == thisKey):\n",
    "        print \"{0}\\t{1}\".format(thisKey, aggregator)\n",
    "        oldKey = thisKey\n",
    "        aggregator = 0\n",
    "    oldKey = thisKey\n",
    "    aggregator += thisValue\n",
    "if not (oldKey is None):\n",
    "    print \"{0}\\t{1}\".format(thisKey, aggregator)"
   ]
  },
  {
   "cell_type": "code",
   "execution_count": null,
   "metadata": {
    "collapsed": true
   },
   "outputs": [],
   "source": [
    "# Problem 3: Number of times the track was listened to on the radio"
   ]
  },
  {
   "cell_type": "code",
   "execution_count": null,
   "metadata": {
    "collapsed": true
   },
   "outputs": [],
   "source": [
    "# Mapper Function. File saved as mapper3.py\n",
    "# For the sake of argument, we treat songs with skip = \"1\" as not listened.\n",
    "\n",
    "from sys import stdin\n",
    "\n",
    "for line in stdin:\n",
    "    data = line.split(\"|\")\n",
    "    if not len(data == 5):\n",
    "        continue\n",
    "    tid, radio, skip = data[1], data[3], data[4]\n",
    "    if skip == \"1\": # Change to \"0\" for problem 5\n",
    "        continue\n",
    "    else:\n",
    "        print \"{0}\\t{1}\".format(tid, radio)"
   ]
  },
  {
   "cell_type": "code",
   "execution_count": null,
   "metadata": {
    "collapsed": true
   },
   "outputs": [],
   "source": [
    "# Reducer function reducer2.py can be used as the reducer for Problem 3"
   ]
  },
  {
   "cell_type": "code",
   "execution_count": null,
   "metadata": {
    "collapsed": true
   },
   "outputs": [],
   "source": [
    "# Problem 4: Number of times the track was listened to in total"
   ]
  },
  {
   "cell_type": "code",
   "execution_count": null,
   "metadata": {
    "collapsed": true
   },
   "outputs": [],
   "source": [
    "# Mapper Function. File saved as mapper4.py\n",
    "# Logic similar to mapper3.py. Note the change in data emission\n",
    "\n",
    "from sys import stdin\n",
    "\n",
    "for line in stdin:\n",
    "    data = line.split(\"|\")\n",
    "    if not len(data) == 5):\n",
    "        continue\n",
    "    tid, skip = data[1], data[4]\n",
    "    if skip == \"1\":\n",
    "        continue\n",
    "    else:\n",
    "        print \"{0}\\t1\".format(tid)"
   ]
  },
  {
   "cell_type": "code",
   "execution_count": null,
   "metadata": {
    "collapsed": true
   },
   "outputs": [],
   "source": [
    "# Reducer function reducer2.py can be used as the reducer for Problem 4"
   ]
  },
  {
   "cell_type": "code",
   "execution_count": null,
   "metadata": {
    "collapsed": true
   },
   "outputs": [],
   "source": [
    "# Problem 5: Number of times the track was skipped on the radio\n",
    "# Mapper to be used, mapper3.py with line 11\n",
    "# Reducer to be used, reducer2.py"
   ]
  }
 ],
 "metadata": {
  "kernelspec": {
   "display_name": "Python 2",
   "language": "python",
   "name": "python2"
  },
  "language_info": {
   "codemirror_mode": {
    "name": "ipython",
    "version": 2
   },
   "file_extension": ".py",
   "mimetype": "text/x-python",
   "name": "python",
   "nbconvert_exporter": "python",
   "pygments_lexer": "ipython2",
   "version": "2.7.11"
  }
 },
 "nbformat": 4,
 "nbformat_minor": 0
}
