{
 "cells": [
  {
   "cell_type": "code",
   "execution_count": 1,
   "metadata": {
    "collapsed": true
   },
   "outputs": [],
   "source": [
    "#================================================================================================================================\n",
    "# OOP Basics\n",
    "# Implementation of a binary tree. Member function checks if the tree is balanced.\n",
    "# @author: Souradeep Sinha\n",
    "#================================================================================================================================"
   ]
  },
  {
   "cell_type": "code",
   "execution_count": 2,
   "metadata": {
    "collapsed": true
   },
   "outputs": [],
   "source": [
    "class Node:\n",
    "    \"\"\"\n",
    "    This class defines the structure of a single node/vertex within the tree\n",
    "    \"\"\"\n",
    "    def __init__(self, data = None):\n",
    "        \"\"\"\n",
    "        Initialize with the data element, default value of node is null. Node is a leaf, with no children\n",
    "        \"\"\"\n",
    "        self.data = data\n",
    "        self.left = None\n",
    "        self.right = None"
   ]
  },
  {
   "cell_type": "code",
   "execution_count": 3,
   "metadata": {
    "collapsed": false
   },
   "outputs": [],
   "source": [
    "class BinaryTree:\n",
    "    \"\"\"\n",
    "    This class defines the structure of a tree.\n",
    "    \"\"\"\n",
    "    def __init__(self):\n",
    "        \"\"\"\n",
    "        Initialize with a null root node.\n",
    "        \"\"\"\n",
    "        self.root = Node()\n",
    "        \n",
    "    def height(self, node):\n",
    "        \"\"\"\n",
    "        Returns the height of a node recursively.\n",
    "        \"\"\"\n",
    "        # If node is a null node, return 0\n",
    "        if node is None:\n",
    "            return 0\n",
    "        # If node is not null, height is maximum of the height of it's left and right children\n",
    "        else:\n",
    "            return 1 + max(self.height(node.left), self.height(node.right))\n",
    "    \n",
    "    def isBalanced(self, node):\n",
    "        \"\"\"\n",
    "        Returns true if the tree is balanced.\n",
    "        \"\"\"\n",
    "        # Null nodes are always balanced trees\n",
    "        if node is None:\n",
    "            return True\n",
    "        else:\n",
    "            # If both left and right subtrees are balanced, and difference of their height is at most 1, tree is balanced\n",
    "            if abs(self.height(node.left) - self.height(node.right)) <= 1 and self.isBalanced(node.left) and self.isBalanced(node.right):\n",
    "                return True\n",
    "            # Otherwise tree is unbalanced\n",
    "            else:\n",
    "                return False"
   ]
  },
  {
   "cell_type": "code",
   "execution_count": 4,
   "metadata": {
    "collapsed": false
   },
   "outputs": [
    {
     "name": "stdout",
     "output_type": "stream",
     "text": [
      "True\n",
      "True\n",
      "True\n",
      "False\n",
      "True\n"
     ]
    }
   ],
   "source": [
    "# Initialize tree with null root node\n",
    "T = BinaryTree()\n",
    "print T.isBalanced(T.root)\n",
    "# Add data to root node 1\n",
    "# Inorder : 1\n",
    "T.root = Node(1)\n",
    "print T.isBalanced(T.root)\n",
    "\n",
    "# Add node 2 and node 3\n",
    "# Inorder : (2) 1 (3)\n",
    "T.root.left = Node(2)\n",
    "T.root.right = Node(3)\n",
    "print T.isBalanced(T.root)\n",
    "\n",
    "# Add node 4 and node 5\n",
    "# Inorder : (((5) 4) 2) 1 (3)\n",
    "T.root.left.left = Node(4)\n",
    "T.root.left.left.left = Node(5)\n",
    "print T.isBalanced(T.root)\n",
    "\n",
    "# Add node 6 and node 7\n",
    "# Inorder : (((5) 4) 2 (6 (7))) 1 (3)\n",
    "T.root.left.right = Node(6)\n",
    "T.root.left.right.left = Node(7)\n",
    "\n",
    "#Left subtree Inorder: (((5) 4) 2 (6 (7)))\n",
    "print T.isBalanced(T.root.left)\n",
    "\n"
   ]
  },
  {
   "cell_type": "code",
   "execution_count": null,
   "metadata": {
    "collapsed": true
   },
   "outputs": [],
   "source": []
  }
 ],
 "metadata": {
  "kernelspec": {
   "display_name": "Python 2",
   "language": "python",
   "name": "python2"
  },
  "language_info": {
   "codemirror_mode": {
    "name": "ipython",
    "version": 2
   },
   "file_extension": ".py",
   "mimetype": "text/x-python",
   "name": "python",
   "nbconvert_exporter": "python",
   "pygments_lexer": "ipython2",
   "version": "2.7.11"
  }
 },
 "nbformat": 4,
 "nbformat_minor": 0
}
